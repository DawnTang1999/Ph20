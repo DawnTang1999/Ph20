{
 "cells": [
  {
   "cell_type": "code",
   "execution_count": 5,
   "metadata": {},
   "outputs": [],
   "source": [
    "import numpy as np\n",
    "import matplotlib.pyplot as plt"
   ]
  },
  {
   "cell_type": "code",
   "execution_count": 6,
   "metadata": {},
   "outputs": [],
   "source": [
    "def trapezoid(func, N, a, b):\n",
    "    h = (b - a) / float(N)\n",
    "    points = np.arange(N + 1) * h + a\n",
    "    sum = 0\n",
    "    for i in range(len(points)):\n",
    "        sum += h * func(points[i])\n",
    "    sum = sum - h * func(a) / float(2) - h * func(b) / float(2)\n",
    "    return sum"
   ]
  },
  {
   "cell_type": "code",
   "execution_count": 7,
   "metadata": {},
   "outputs": [
    {
     "name": "stdout",
     "output_type": "stream",
     "text": [
      "[ 6.   6.8  7.6  8.4  9.2 10. ]\n"
     ]
    }
   ],
   "source": [
    "a = 6\n",
    "b = 10\n",
    "N = 5\n",
    "h = (b - a) / float(N)\n",
    "points = np.arange(N+1) * h +a\n",
    "print points"
   ]
  },
  {
   "cell_type": "code",
   "execution_count": 8,
   "metadata": {},
   "outputs": [],
   "source": [
    "def simpson(func, N, a, b):\n",
    "    if N % 2 != 0:\n",
    "        raise exception(\"N should be an even number.\")\n",
    "    h = (b - a) / float(N)\n",
    "    points = np.arange(N + 1) * h + a\n",
    "    sum = (h/3) * (func(a) + func(b)) \n",
    "    for i in range(1, N):\n",
    "        if i % 2 == 0:\n",
    "            sum += (h/3) * 2 * func(points[i])\n",
    "        else:\n",
    "            sum += (h/3) * 4 * func(points[i])\n",
    "    return sum"
   ]
  },
  {
   "cell_type": "code",
   "execution_count": 9,
   "metadata": {},
   "outputs": [],
   "source": [
    "def exp(n):\n",
    "    return np.e**n"
   ]
  },
  {
   "cell_type": "code",
   "execution_count": 10,
   "metadata": {},
   "outputs": [
    {
     "name": "stdout",
     "output_type": "stream",
     "text": [
      "1.718281828459053\n"
     ]
    }
   ],
   "source": [
    "print (simpson(exp, 10000, 0, 1))"
   ]
  },
  {
   "cell_type": "code",
   "execution_count": 18,
   "metadata": {},
   "outputs": [
    {
     "data": {
      "text/plain": [
       "1.718281828459045"
      ]
     },
     "execution_count": 18,
     "metadata": {},
     "output_type": "execute_result"
    }
   ],
   "source": [
    "np.e - 1"
   ]
  },
  {
   "cell_type": "code",
   "execution_count": 16,
   "metadata": {},
   "outputs": [],
   "source": [
    "def simpson_accuracy(func, N0, accuracy, a, b):\n",
    "    ratio = 10**7\n",
    "    k = 0\n",
    "    while ratio > accuracy:\n",
    "        I1 = simpson(func, N0 * 2**k, a, b)\n",
    "        I2 = simpson(func, N0 * 2**(k+1), a, b)\n",
    "        ratio = abs(I1 - I2) / I1\n",
    "        k += 1\n",
    "    print(simpson(func, N0 * 2**k, a, b) - np.e + 1)\n",
    "    return simpson(func, N0 * 2**k, a, b)"
   ]
  },
  {
   "cell_type": "code",
   "execution_count": 17,
   "metadata": {},
   "outputs": [
    {
     "name": "stdout",
     "output_type": "stream",
     "text": [
      "1.7182818298909466\n"
     ]
    }
   ],
   "source": [
    "print(trapezoid(exp, 10000, 0, 1))"
   ]
  },
  {
   "cell_type": "code",
   "execution_count": 19,
   "metadata": {},
   "outputs": [
    {
     "name": "stdout",
     "output_type": "stream",
     "text": [
      "9.092726571680032e-13\n"
     ]
    },
    {
     "data": {
      "text/plain": [
       "1.7182818284599544"
      ]
     },
     "execution_count": 19,
     "metadata": {},
     "output_type": "execute_result"
    }
   ],
   "source": [
    "simpson_accuracy(exp, 20, 10**(-10), 0, 1)"
   ]
  },
  {
   "cell_type": "code",
   "execution_count": null,
   "metadata": {},
   "outputs": [],
   "source": []
  }
 ],
 "metadata": {
  "kernelspec": {
   "display_name": "Python 2",
   "language": "python",
   "name": "python2"
  },
  "language_info": {
   "codemirror_mode": {
    "name": "ipython",
    "version": 2
   },
   "file_extension": ".py",
   "mimetype": "text/x-python",
   "name": "python",
   "nbconvert_exporter": "python",
   "pygments_lexer": "ipython2",
   "version": "2.7.15+"
  }
 },
 "nbformat": 4,
 "nbformat_minor": 2
}
